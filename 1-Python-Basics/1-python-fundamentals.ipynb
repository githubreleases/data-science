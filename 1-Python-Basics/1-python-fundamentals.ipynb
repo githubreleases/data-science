{
 "cells": [
  {
   "cell_type": "markdown",
   "metadata": {
    "colab_type": "text",
    "id": "view-in-github"
   },
   "source": [
    "<a href=\"https://colab.research.google.com/github/sourovw/data-science/blob/main/1-Python-Basics/1-python-fundamentals.ipynb\" target=\"_parent\"><img src=\"https://colab.research.google.com/assets/colab-badge.svg\" alt=\"Open In Colab\"/></a>"
   ]
  },
  {
   "cell_type": "markdown",
   "metadata": {
    "id": "CWIDiS8rkv44"
   },
   "source": [
    "# Variable"
   ]
  },
  {
   "cell_type": "code",
   "execution_count": 1,
   "metadata": {
    "id": "nKSMxD-0ei_i"
   },
   "outputs": [],
   "source": [
    "rent = 1200"
   ]
  },
  {
   "cell_type": "code",
   "execution_count": 2,
   "metadata": {
    "id": "u8vKBK31kmY3"
   },
   "outputs": [],
   "source": [
    "gas = 202"
   ]
  },
  {
   "cell_type": "code",
   "execution_count": 3,
   "metadata": {
    "id": "AiMoOLJukpJu"
   },
   "outputs": [],
   "source": [
    "total = rent + gas"
   ]
  },
  {
   "cell_type": "code",
   "execution_count": 4,
   "metadata": {
    "colab": {
     "base_uri": "https://localhost:8080/"
    },
    "id": "vS2xnQ6Hks7k",
    "outputId": "067e4fad-f9c2-42d8-f9be-1568d694a57a"
   },
   "outputs": [
    {
     "data": {
      "text/plain": [
       "1402"
      ]
     },
     "execution_count": 4,
     "metadata": {
      "tags": []
     },
     "output_type": "execute_result"
    }
   ],
   "source": [
    "total"
   ]
  },
  {
   "cell_type": "markdown",
   "metadata": {
    "id": "VAJmlDsvlFfx"
   },
   "source": [
    "# Numbers"
   ]
  },
  {
   "cell_type": "code",
   "execution_count": 5,
   "metadata": {
    "colab": {
     "base_uri": "https://localhost:8080/"
    },
    "id": "fVPokIsmlIcF",
    "outputId": "9fc290d5-2c0d-4d1d-ab48-50020625feb1"
   },
   "outputs": [
    {
     "data": {
      "text/plain": [
       "25"
      ]
     },
     "execution_count": 5,
     "metadata": {
      "tags": []
     },
     "output_type": "execute_result"
    }
   ],
   "source": [
    "12 + 13"
   ]
  },
  {
   "cell_type": "code",
   "execution_count": 6,
   "metadata": {
    "colab": {
     "base_uri": "https://localhost:8080/"
    },
    "id": "uZvpShs3lMRT",
    "outputId": "b901516a-2916-4d5a-84d1-536ac00aec63"
   },
   "outputs": [
    {
     "data": {
      "text/plain": [
       "0.75"
      ]
     },
     "execution_count": 6,
     "metadata": {
      "tags": []
     },
     "output_type": "execute_result"
    }
   ],
   "source": [
    "3 / 4"
   ]
  },
  {
   "cell_type": "code",
   "execution_count": 7,
   "metadata": {
    "colab": {
     "base_uri": "https://localhost:8080/"
    },
    "id": "LeYJahRAlOQ0",
    "outputId": "c829e097-d479-451a-bbc3-15820051ed92"
   },
   "outputs": [
    {
     "data": {
      "text/plain": [
       "-1"
      ]
     },
     "execution_count": 7,
     "metadata": {
      "tags": []
     },
     "output_type": "execute_result"
    }
   ],
   "source": [
    "3 - 4"
   ]
  },
  {
   "cell_type": "code",
   "execution_count": 8,
   "metadata": {
    "colab": {
     "base_uri": "https://localhost:8080/"
    },
    "id": "Ay1jBboelQPf",
    "outputId": "d4e8a111-640c-42e8-f9b8-984195a19002"
   },
   "outputs": [
    {
     "data": {
      "text/plain": [
       "0.2999999999999998"
      ]
     },
     "execution_count": 8,
     "metadata": {
      "tags": []
     },
     "output_type": "execute_result"
    }
   ],
   "source": [
    "6 - 5.7"
   ]
  },
  {
   "cell_type": "code",
   "execution_count": 10,
   "metadata": {
    "id": "e1Hh_pSclRnU"
   },
   "outputs": [],
   "source": [
    "n = (6 - 5.7)"
   ]
  },
  {
   "cell_type": "code",
   "execution_count": 11,
   "metadata": {
    "colab": {
     "base_uri": "https://localhost:8080/"
    },
    "id": "QwP1jxtzlZiA",
    "outputId": "b32778ec-3440-40d5-97a9-9a2a898cdaf3"
   },
   "outputs": [
    {
     "data": {
      "text/plain": [
       "0.3"
      ]
     },
     "execution_count": 11,
     "metadata": {
      "tags": []
     },
     "output_type": "execute_result"
    }
   ],
   "source": [
    "round(n, 2)"
   ]
  },
  {
   "cell_type": "code",
   "execution_count": 12,
   "metadata": {
    "colab": {
     "base_uri": "https://localhost:8080/"
    },
    "id": "mkXbK9oRlcay",
    "outputId": "1740060d-2646-46cc-8926-648d4e8df99c"
   },
   "outputs": [
    {
     "data": {
      "text/plain": [
       "16"
      ]
     },
     "execution_count": 12,
     "metadata": {
      "tags": []
     },
     "output_type": "execute_result"
    }
   ],
   "source": [
    "2 ** 4"
   ]
  },
  {
   "cell_type": "markdown",
   "metadata": {
    "id": "aMeep3yelhYl"
   },
   "source": [
    "# Strings"
   ]
  },
  {
   "cell_type": "code",
   "execution_count": 13,
   "metadata": {
    "id": "BuvfGuPQljwS"
   },
   "outputs": [],
   "source": [
    "text = \"ice cream\""
   ]
  },
  {
   "cell_type": "code",
   "execution_count": 14,
   "metadata": {
    "colab": {
     "base_uri": "https://localhost:8080/",
     "height": 35
    },
    "id": "XUDgawHaln6C",
    "outputId": "afb5534f-557d-432e-ea0b-660a01d343c1"
   },
   "outputs": [
    {
     "data": {
      "application/vnd.google.colaboratory.intrinsic+json": {
       "type": "string"
      },
      "text/plain": [
       "'ice cream'"
      ]
     },
     "execution_count": 14,
     "metadata": {
      "tags": []
     },
     "output_type": "execute_result"
    }
   ],
   "source": [
    "text"
   ]
  },
  {
   "cell_type": "code",
   "execution_count": 15,
   "metadata": {
    "colab": {
     "base_uri": "https://localhost:8080/"
    },
    "id": "yzObKwGelosc",
    "outputId": "b8cf7da3-feec-4427-b9b0-154495a46fd1"
   },
   "outputs": [
    {
     "data": {
      "text/plain": [
       "str"
      ]
     },
     "execution_count": 15,
     "metadata": {
      "tags": []
     },
     "output_type": "execute_result"
    }
   ],
   "source": [
    "type(text)"
   ]
  },
  {
   "cell_type": "markdown",
   "metadata": {
    "id": "aPZsVsLel6ot"
   },
   "source": [
    "<hr>\n",
    "\n",
    "```\n",
    "Here text is a sequence of characters.\n",
    "\n",
    "i c e   c r e a m\n",
    "0 1 2 3 4 5 6 7 8\n",
    "```\n",
    "<hr>"
   ]
  },
  {
   "cell_type": "code",
   "execution_count": 16,
   "metadata": {
    "colab": {
     "base_uri": "https://localhost:8080/",
     "height": 35
    },
    "id": "s5a21dMZmyJJ",
    "outputId": "a82a86d7-6245-4001-9a5b-d5e4a84d7bd9"
   },
   "outputs": [
    {
     "data": {
      "application/vnd.google.colaboratory.intrinsic+json": {
       "type": "string"
      },
      "text/plain": [
       "'i'"
      ]
     },
     "execution_count": 16,
     "metadata": {
      "tags": []
     },
     "output_type": "execute_result"
    }
   ],
   "source": [
    "text[0]"
   ]
  },
  {
   "cell_type": "code",
   "execution_count": 17,
   "metadata": {
    "colab": {
     "base_uri": "https://localhost:8080/",
     "height": 35
    },
    "id": "m5YXEA23m2K0",
    "outputId": "03cbed98-d16a-4103-dddb-a0ed125c21ce"
   },
   "outputs": [
    {
     "data": {
      "application/vnd.google.colaboratory.intrinsic+json": {
       "type": "string"
      },
      "text/plain": [
       "' '"
      ]
     },
     "execution_count": 17,
     "metadata": {
      "tags": []
     },
     "output_type": "execute_result"
    }
   ],
   "source": [
    "text[3]"
   ]
  },
  {
   "cell_type": "code",
   "execution_count": 18,
   "metadata": {
    "colab": {
     "base_uri": "https://localhost:8080/",
     "height": 35
    },
    "id": "jAOIhEFFnm61",
    "outputId": "7652c59d-861e-474d-9873-cda99c2765b3"
   },
   "outputs": [
    {
     "data": {
      "application/vnd.google.colaboratory.intrinsic+json": {
       "type": "string"
      },
      "text/plain": [
       "'cream'"
      ]
     },
     "execution_count": 18,
     "metadata": {
      "tags": []
     },
     "output_type": "execute_result"
    }
   ],
   "source": [
    "text[4:9]"
   ]
  },
  {
   "cell_type": "code",
   "execution_count": 19,
   "metadata": {
    "colab": {
     "base_uri": "https://localhost:8080/",
     "height": 35
    },
    "id": "ELCIiYoToCC7",
    "outputId": "57bca0ab-d0ee-4e35-f07d-649f8fc9dc19"
   },
   "outputs": [
    {
     "data": {
      "application/vnd.google.colaboratory.intrinsic+json": {
       "type": "string"
      },
      "text/plain": [
       "'ice'"
      ]
     },
     "execution_count": 19,
     "metadata": {
      "tags": []
     },
     "output_type": "execute_result"
    }
   ],
   "source": [
    "text[:3]"
   ]
  },
  {
   "cell_type": "code",
   "execution_count": 20,
   "metadata": {
    "colab": {
     "base_uri": "https://localhost:8080/",
     "height": 35
    },
    "id": "S4byvvNSoDxA",
    "outputId": "f58f4b73-5d5b-4b31-fc31-432636574369"
   },
   "outputs": [
    {
     "data": {
      "application/vnd.google.colaboratory.intrinsic+json": {
       "type": "string"
      },
      "text/plain": [
       "'iecem'"
      ]
     },
     "execution_count": 20,
     "metadata": {
      "tags": []
     },
     "output_type": "execute_result"
    }
   ],
   "source": [
    "text[0:9:2]"
   ]
  },
  {
   "cell_type": "markdown",
   "metadata": {
    "id": "SHAL1UtFoj0s"
   },
   "source": [
    "<hr>\n",
    "\n",
    "```\n",
    "text[4:9]\n",
    "\n",
    "Starting point : 4\n",
    "Stopping point : 9 - 1 = 8\n",
    "\n",
    "text[4:N]\n",
    "Stopping point : N - 1\n",
    "\n",
    "```\n",
    "<hr>"
   ]
  },
  {
   "cell_type": "markdown",
   "metadata": {
    "id": "P7QUV9zXpnyI"
   },
   "source": [
    "# Lists"
   ]
  },
  {
   "cell_type": "code",
   "execution_count": 21,
   "metadata": {
    "id": "ddLfDlKXppjX"
   },
   "outputs": [],
   "source": [
    "item1 = \"pasta\""
   ]
  },
  {
   "cell_type": "code",
   "execution_count": 22,
   "metadata": {
    "id": "Wcm_0gHTpzd9"
   },
   "outputs": [],
   "source": [
    "item2 = \"bread\""
   ]
  },
  {
   "cell_type": "code",
   "execution_count": 23,
   "metadata": {
    "id": "zijggwENp1UD"
   },
   "outputs": [],
   "source": [
    "item3 = \"egg\""
   ]
  },
  {
   "cell_type": "code",
   "execution_count": 24,
   "metadata": {
    "id": "nhT4e1O0p2hX"
   },
   "outputs": [],
   "source": [
    "items = ['bread', 'pasta', 'cake']"
   ]
  },
  {
   "cell_type": "code",
   "execution_count": 25,
   "metadata": {
    "colab": {
     "base_uri": "https://localhost:8080/",
     "height": 35
    },
    "id": "aZ5ZiyM8qF8g",
    "outputId": "06ffd1c4-576d-4a02-cad1-9cf8dca0735d"
   },
   "outputs": [
    {
     "data": {
      "application/vnd.google.colaboratory.intrinsic+json": {
       "type": "string"
      },
      "text/plain": [
       "'bread'"
      ]
     },
     "execution_count": 25,
     "metadata": {
      "tags": []
     },
     "output_type": "execute_result"
    }
   ],
   "source": [
    "items[0]"
   ]
  },
  {
   "cell_type": "code",
   "execution_count": 26,
   "metadata": {
    "colab": {
     "base_uri": "https://localhost:8080/",
     "height": 35
    },
    "id": "cntLvPktqG3Q",
    "outputId": "1c034374-fb6e-4c6e-a981-12604c2b1a01"
   },
   "outputs": [
    {
     "data": {
      "application/vnd.google.colaboratory.intrinsic+json": {
       "type": "string"
      },
      "text/plain": [
       "'cake'"
      ]
     },
     "execution_count": 26,
     "metadata": {
      "tags": []
     },
     "output_type": "execute_result"
    }
   ],
   "source": [
    "items[2]"
   ]
  },
  {
   "cell_type": "code",
   "execution_count": 27,
   "metadata": {
    "id": "C5RuhMqDqKnK"
   },
   "outputs": [],
   "source": [
    "items[0] = \"chips\""
   ]
  },
  {
   "cell_type": "code",
   "execution_count": 28,
   "metadata": {
    "colab": {
     "base_uri": "https://localhost:8080/",
     "height": 35
    },
    "id": "8wxFStmvqOVI",
    "outputId": "35a82372-d6f6-46d2-b637-b9dbec409f82"
   },
   "outputs": [
    {
     "data": {
      "application/vnd.google.colaboratory.intrinsic+json": {
       "type": "string"
      },
      "text/plain": [
       "'chips'"
      ]
     },
     "execution_count": 28,
     "metadata": {
      "tags": []
     },
     "output_type": "execute_result"
    }
   ],
   "source": [
    "items[0]"
   ]
  },
  {
   "cell_type": "code",
   "execution_count": 29,
   "metadata": {
    "colab": {
     "base_uri": "https://localhost:8080/"
    },
    "id": "jr1j9FlZqPzL",
    "outputId": "17ddcc9f-0a21-45f3-f6da-6fdc168454e3"
   },
   "outputs": [
    {
     "data": {
      "text/plain": [
       "['chips', 'pasta']"
      ]
     },
     "execution_count": 29,
     "metadata": {
      "tags": []
     },
     "output_type": "execute_result"
    }
   ],
   "source": [
    "items[0:1+1]"
   ]
  },
  {
   "cell_type": "code",
   "execution_count": 30,
   "metadata": {
    "colab": {
     "base_uri": "https://localhost:8080/"
    },
    "id": "RuMRg79jUgbF",
    "outputId": "85e5bf2b-4ef0-4b4d-9415-1116134138e0"
   },
   "outputs": [
    {
     "data": {
      "text/plain": [
       "['chips', 'pasta']"
      ]
     },
     "execution_count": 30,
     "metadata": {
      "tags": []
     },
     "output_type": "execute_result"
    }
   ],
   "source": [
    "items[0:2:1]"
   ]
  },
  {
   "cell_type": "code",
   "execution_count": 31,
   "metadata": {
    "colab": {
     "base_uri": "https://localhost:8080/"
    },
    "id": "WOLWApaHUgbF",
    "outputId": "c528b60f-c8ce-442d-94f6-44cdb9b3b10f"
   },
   "outputs": [
    {
     "data": {
      "text/plain": [
       "['chips', 'pasta', 'cake']"
      ]
     },
     "execution_count": 31,
     "metadata": {
      "tags": []
     },
     "output_type": "execute_result"
    }
   ],
   "source": [
    "items[0:1+2]"
   ]
  },
  {
   "cell_type": "code",
   "execution_count": 32,
   "metadata": {
    "colab": {
     "base_uri": "https://localhost:8080/",
     "height": 35
    },
    "id": "HKQMmmN8qWYt",
    "outputId": "096426a2-44bb-48be-aa53-30a17c063c5c"
   },
   "outputs": [
    {
     "data": {
      "application/vnd.google.colaboratory.intrinsic+json": {
       "type": "string"
      },
      "text/plain": [
       "'cake'"
      ]
     },
     "execution_count": 32,
     "metadata": {
      "tags": []
     },
     "output_type": "execute_result"
    }
   ],
   "source": [
    "items[-1]"
   ]
  },
  {
   "cell_type": "code",
   "execution_count": 33,
   "metadata": {
    "colab": {
     "base_uri": "https://localhost:8080/"
    },
    "id": "bHoKTdg5UgbG",
    "outputId": "d5f581c1-92b6-4ed7-f6db-be802ae55a08"
   },
   "outputs": [
    {
     "data": {
      "text/plain": [
       "[]"
      ]
     },
     "execution_count": 33,
     "metadata": {
      "tags": []
     },
     "output_type": "execute_result"
    }
   ],
   "source": [
    "items[0:3:-1]"
   ]
  },
  {
   "cell_type": "code",
   "execution_count": 34,
   "metadata": {
    "colab": {
     "base_uri": "https://localhost:8080/"
    },
    "id": "tU3XR-BaUgbG",
    "outputId": "75dc6c12-34d9-448a-cd74-7428c782a670"
   },
   "outputs": [
    {
     "data": {
      "text/plain": [
       "['cake', 'pasta']"
      ]
     },
     "execution_count": 34,
     "metadata": {
      "tags": []
     },
     "output_type": "execute_result"
    }
   ],
   "source": [
    "items[3:0:-1]"
   ]
  },
  {
   "cell_type": "code",
   "execution_count": 35,
   "metadata": {
    "colab": {
     "base_uri": "https://localhost:8080/"
    },
    "id": "4m1vURO7UgbH",
    "outputId": "27e66e0a-7715-4bc8-a3c7-44e15b9cf7c0"
   },
   "outputs": [
    {
     "data": {
      "text/plain": [
       "['cake', 'pasta', 'chips']"
      ]
     },
     "execution_count": 35,
     "metadata": {
      "tags": []
     },
     "output_type": "execute_result"
    }
   ],
   "source": [
    "items[3::-1]"
   ]
  },
  {
   "cell_type": "code",
   "execution_count": 36,
   "metadata": {
    "colab": {
     "base_uri": "https://localhost:8080/"
    },
    "id": "zugq8c1tqgxL",
    "outputId": "498057fc-7584-4bf2-bdf1-6b1bf5c824e0"
   },
   "outputs": [
    {
     "data": {
      "text/plain": [
       "['chips', 'pasta', 'cake']"
      ]
     },
     "execution_count": 36,
     "metadata": {
      "tags": []
     },
     "output_type": "execute_result"
    }
   ],
   "source": [
    "items"
   ]
  },
  {
   "cell_type": "code",
   "execution_count": 37,
   "metadata": {
    "id": "AI68bUGoqptC"
   },
   "outputs": [],
   "source": [
    "items.append(\"butter\")"
   ]
  },
  {
   "cell_type": "code",
   "execution_count": 38,
   "metadata": {
    "colab": {
     "base_uri": "https://localhost:8080/"
    },
    "id": "kcWp3OOPqszE",
    "outputId": "6c34b629-23f6-44e0-ddc0-1051757b7060"
   },
   "outputs": [
    {
     "data": {
      "text/plain": [
       "['chips', 'pasta', 'cake', 'butter']"
      ]
     },
     "execution_count": 38,
     "metadata": {
      "tags": []
     },
     "output_type": "execute_result"
    }
   ],
   "source": [
    "items"
   ]
  },
  {
   "cell_type": "code",
   "execution_count": 39,
   "metadata": {
    "id": "4Ps0efjdrp4H"
   },
   "outputs": [],
   "source": [
    "items.insert(2, 'chocolate')"
   ]
  },
  {
   "cell_type": "code",
   "execution_count": 40,
   "metadata": {
    "colab": {
     "base_uri": "https://localhost:8080/"
    },
    "id": "U9-zzQvGsBvC",
    "outputId": "90d02ebf-a409-485e-9074-30cc3c8fe208"
   },
   "outputs": [
    {
     "data": {
      "text/plain": [
       "['chips', 'pasta', 'chocolate', 'cake', 'butter']"
      ]
     },
     "execution_count": 40,
     "metadata": {
      "tags": []
     },
     "output_type": "execute_result"
    }
   ],
   "source": [
    "items"
   ]
  },
  {
   "cell_type": "markdown",
   "metadata": {
    "id": "O0DdQBJyqwcl"
   },
   "source": [
    "<hr>\n",
    "\n",
    "```\n",
    "Use .append() to add a new item in a list.\n",
    "Use .insert() to add a new item in a specific index of a list.\n",
    "\n",
    "```\n",
    "<hr>"
   ]
  },
  {
   "cell_type": "code",
   "execution_count": 41,
   "metadata": {
    "colab": {
     "base_uri": "https://localhost:8080/"
    },
    "id": "n4VxpoXQUgbJ",
    "outputId": "4e1fa653-ee91-43f6-da68-df70c8a01ae1"
   },
   "outputs": [
    {
     "data": {
      "text/plain": [
       "5"
      ]
     },
     "execution_count": 41,
     "metadata": {
      "tags": []
     },
     "output_type": "execute_result"
    }
   ],
   "source": [
    "len(items)"
   ]
  },
  {
   "cell_type": "code",
   "execution_count": 42,
   "metadata": {
    "colab": {
     "base_uri": "https://localhost:8080/"
    },
    "id": "SZKwpjH6UgbJ",
    "outputId": "c0bf4dfd-77d7-4864-82c8-50a7f2b6981b"
   },
   "outputs": [
    {
     "data": {
      "text/plain": [
       "['butter', 'chocolate', 'chips']"
      ]
     },
     "execution_count": 42,
     "metadata": {
      "tags": []
     },
     "output_type": "execute_result"
    }
   ],
   "source": [
    "items[5::-2]"
   ]
  },
  {
   "cell_type": "code",
   "execution_count": 43,
   "metadata": {
    "id": "XS3er9KrsC43"
   },
   "outputs": [],
   "source": [
    "meat = ['chicken', 'pork', 'beef']"
   ]
  },
  {
   "cell_type": "code",
   "execution_count": 44,
   "metadata": {
    "id": "o6TUnGlJsmaK"
   },
   "outputs": [],
   "source": [
    "drinks = ['coke', 'pepsi']"
   ]
  },
  {
   "cell_type": "code",
   "execution_count": 45,
   "metadata": {
    "id": "Mdgtl_Y4sxbx"
   },
   "outputs": [],
   "source": [
    "meals = meat + drinks"
   ]
  },
  {
   "cell_type": "code",
   "execution_count": 46,
   "metadata": {
    "colab": {
     "base_uri": "https://localhost:8080/"
    },
    "id": "7Xs78g5Osz19",
    "outputId": "43c80167-ca1f-47de-c8db-c0eae0f358de"
   },
   "outputs": [
    {
     "data": {
      "text/plain": [
       "['chicken', 'pork', 'beef', 'coke', 'pepsi']"
      ]
     },
     "execution_count": 46,
     "metadata": {
      "tags": []
     },
     "output_type": "execute_result"
    }
   ],
   "source": [
    "meals"
   ]
  },
  {
   "cell_type": "code",
   "execution_count": 47,
   "metadata": {
    "colab": {
     "base_uri": "https://localhost:8080/"
    },
    "id": "qeRweJBLs3ed",
    "outputId": "58841d38-306f-4aff-d369-b8f64fe6e7d1"
   },
   "outputs": [
    {
     "data": {
      "text/plain": [
       "True"
      ]
     },
     "execution_count": 47,
     "metadata": {
      "tags": []
     },
     "output_type": "execute_result"
    }
   ],
   "source": [
    "\"coke\" in meals"
   ]
  },
  {
   "cell_type": "code",
   "execution_count": 48,
   "metadata": {
    "colab": {
     "base_uri": "https://localhost:8080/"
    },
    "id": "Hs-4X6rcs-5G",
    "outputId": "825f39f3-81de-4b12-b010-5e41562cd507"
   },
   "outputs": [
    {
     "data": {
      "text/plain": [
       "False"
      ]
     },
     "execution_count": 48,
     "metadata": {
      "tags": []
     },
     "output_type": "execute_result"
    }
   ],
   "source": [
    "\"vodka\" in meals"
   ]
  },
  {
   "cell_type": "markdown",
   "metadata": {
    "id": "WHEOgNXcuUUP"
   },
   "source": [
    "# If-Else"
   ]
  },
  {
   "cell_type": "code",
   "execution_count": 49,
   "metadata": {
    "colab": {
     "base_uri": "https://localhost:8080/"
    },
    "id": "pc8iJeJIuZRX",
    "outputId": "dd6f30b2-045c-40da-feb9-05eb2d2fa8f0"
   },
   "outputs": [
    {
     "data": {
      "text/plain": [
       "True"
      ]
     },
     "execution_count": 49,
     "metadata": {
      "tags": []
     },
     "output_type": "execute_result"
    }
   ],
   "source": [
    "3 > 1"
   ]
  },
  {
   "cell_type": "code",
   "execution_count": 50,
   "metadata": {
    "colab": {
     "base_uri": "https://localhost:8080/"
    },
    "id": "gjVtFNSwudsF",
    "outputId": "62e240ca-e44e-433d-a778-eef2572dc877"
   },
   "outputs": [
    {
     "data": {
      "text/plain": [
       "False"
      ]
     },
     "execution_count": 50,
     "metadata": {
      "tags": []
     },
     "output_type": "execute_result"
    }
   ],
   "source": [
    "3 < 1"
   ]
  },
  {
   "cell_type": "code",
   "execution_count": 51,
   "metadata": {
    "id": "iuMiQIT5UgbL"
   },
   "outputs": [],
   "source": [
    "items = ['egg', 'cake', 'soup']"
   ]
  },
  {
   "cell_type": "code",
   "execution_count": 52,
   "metadata": {
    "colab": {
     "base_uri": "https://localhost:8080/"
    },
    "id": "zXuFMA24UgbL",
    "outputId": "7c33f52f-866f-4d9d-d0cf-fe16447c8589"
   },
   "outputs": [
    {
     "name": "stdout",
     "output_type": "stream",
     "text": [
      "available\n"
     ]
    }
   ],
   "source": [
    "if \"egg\" in items:\n",
    "    print(\"available\")\n",
    "else:\n",
    "    print(\"not available\")"
   ]
  },
  {
   "cell_type": "code",
   "execution_count": 53,
   "metadata": {
    "colab": {
     "base_uri": "https://localhost:8080/"
    },
    "id": "80Tj7WldUgbM",
    "outputId": "4431205c-63af-4da2-a01c-63e8f700549e"
   },
   "outputs": [
    {
     "name": "stdout",
     "output_type": "stream",
     "text": [
      "not available\n"
     ]
    }
   ],
   "source": [
    "if \"coke\" in items:\n",
    "    print(\"available\")\n",
    "else:\n",
    "    print(\"not available\")"
   ]
  },
  {
   "cell_type": "markdown",
   "metadata": {
    "id": "N7VoZ584u6Be"
   },
   "source": [
    "# Loops"
   ]
  },
  {
   "cell_type": "code",
   "execution_count": 54,
   "metadata": {
    "id": "_5maGOyWu6wa"
   },
   "outputs": [],
   "source": [
    "exp = [46, 345, 234, 23, 12]"
   ]
  },
  {
   "cell_type": "code",
   "execution_count": 55,
   "metadata": {
    "id": "2GPlFwplvCAP"
   },
   "outputs": [],
   "source": [
    "total = 0"
   ]
  },
  {
   "cell_type": "code",
   "execution_count": 56,
   "metadata": {
    "id": "kj6yo04nvHYM"
   },
   "outputs": [],
   "source": [
    "for item in exp:\n",
    "    total = total + item"
   ]
  },
  {
   "cell_type": "code",
   "execution_count": 57,
   "metadata": {
    "colab": {
     "base_uri": "https://localhost:8080/"
    },
    "id": "2JQpG6rJvO8h",
    "outputId": "446375cd-5b96-4961-b32c-2e47ddd95042"
   },
   "outputs": [
    {
     "data": {
      "text/plain": [
       "660"
      ]
     },
     "execution_count": 57,
     "metadata": {
      "tags": []
     },
     "output_type": "execute_result"
    }
   ],
   "source": [
    "total"
   ]
  },
  {
   "cell_type": "code",
   "execution_count": 58,
   "metadata": {
    "colab": {
     "base_uri": "https://localhost:8080/"
    },
    "id": "1ecrhtD9UgbN",
    "outputId": "a7d37f57-b97b-4703-a5b8-b161b166918d"
   },
   "outputs": [
    {
     "name": "stdout",
     "output_type": "stream",
     "text": [
      "46\n",
      "345\n",
      "234\n",
      "23\n",
      "12\n"
     ]
    }
   ],
   "source": [
    "for item in exp:\n",
    "    total = total + item\n",
    "    print(item)"
   ]
  },
  {
   "cell_type": "code",
   "execution_count": 59,
   "metadata": {
    "id": "NavSa2T1vPuF"
   },
   "outputs": [],
   "source": [
    "key_loc = \"chair\""
   ]
  },
  {
   "cell_type": "code",
   "execution_count": 60,
   "metadata": {
    "id": "Y92dfwN7wQi2"
   },
   "outputs": [],
   "source": [
    "locations = [\"table\", \"bed\", \"chair\", \"closet\", \"garage\"]"
   ]
  },
  {
   "cell_type": "code",
   "execution_count": 61,
   "metadata": {
    "colab": {
     "base_uri": "https://localhost:8080/"
    },
    "id": "3o_rcwdIwfbR",
    "outputId": "3d8d7dc7-5e52-414d-e99d-26babe58d170"
   },
   "outputs": [
    {
     "name": "stdout",
     "output_type": "stream",
     "text": [
      "key is not found in table\n",
      "key is not found in bed\n",
      "key is found in chair\n"
     ]
    }
   ],
   "source": [
    "for i in locations:\n",
    "    if i == key_loc:\n",
    "        print(\"key is found in\", i)\n",
    "        break\n",
    "    else:\n",
    "        print(\"key is not found in\", i)"
   ]
  },
  {
   "cell_type": "markdown",
   "metadata": {
    "id": "bD71rIyFxhVB"
   },
   "source": [
    "# Dictionaries"
   ]
  },
  {
   "cell_type": "code",
   "execution_count": 62,
   "metadata": {
    "id": "-Y7WXUNBw4bq"
   },
   "outputs": [],
   "source": [
    "dic = {\n",
    "    \"sourov\" : 123456543,\n",
    "    \"halder\" : 234565432,\n",
    "    \"patric\" : 345676547\n",
    "}"
   ]
  },
  {
   "cell_type": "code",
   "execution_count": 63,
   "metadata": {
    "colab": {
     "base_uri": "https://localhost:8080/"
    },
    "id": "NLxsDU13yxVB",
    "outputId": "2cf11b9b-3269-4761-961a-12d2269c8ce6"
   },
   "outputs": [
    {
     "data": {
      "text/plain": [
       "{'halder': 234565432, 'patric': 345676547, 'sourov': 123456543}"
      ]
     },
     "execution_count": 63,
     "metadata": {
      "tags": []
     },
     "output_type": "execute_result"
    }
   ],
   "source": [
    "dic"
   ]
  },
  {
   "cell_type": "code",
   "execution_count": 64,
   "metadata": {
    "colab": {
     "base_uri": "https://localhost:8080/"
    },
    "id": "WIQVRz87y9DL",
    "outputId": "52e922ba-8f0d-41e3-cd12-58e8826c9119"
   },
   "outputs": [
    {
     "data": {
      "text/plain": [
       "123456543"
      ]
     },
     "execution_count": 64,
     "metadata": {
      "tags": []
     },
     "output_type": "execute_result"
    }
   ],
   "source": [
    "dic[\"sourov\"]"
   ]
  },
  {
   "cell_type": "code",
   "execution_count": 65,
   "metadata": {
    "id": "-mdUOj6BzALa"
   },
   "outputs": [],
   "source": [
    "dic[\"alexa\"] = 345654346"
   ]
  },
  {
   "cell_type": "code",
   "execution_count": 66,
   "metadata": {
    "colab": {
     "base_uri": "https://localhost:8080/"
    },
    "id": "9IsZRbwazGnV",
    "outputId": "8c13577d-78f0-452b-f40b-d4f980db27a7"
   },
   "outputs": [
    {
     "data": {
      "text/plain": [
       "{'alexa': 345654346,\n",
       " 'halder': 234565432,\n",
       " 'patric': 345676547,\n",
       " 'sourov': 123456543}"
      ]
     },
     "execution_count": 66,
     "metadata": {
      "tags": []
     },
     "output_type": "execute_result"
    }
   ],
   "source": [
    "dic"
   ]
  },
  {
   "cell_type": "code",
   "execution_count": 67,
   "metadata": {
    "id": "y8Au3V-gzH-N"
   },
   "outputs": [],
   "source": [
    "del dic[\"alexa\"]"
   ]
  },
  {
   "cell_type": "code",
   "execution_count": 68,
   "metadata": {
    "colab": {
     "base_uri": "https://localhost:8080/"
    },
    "id": "n_oHwXflzOH5",
    "outputId": "568db6a7-a171-459a-94ad-e53706c64f7a"
   },
   "outputs": [
    {
     "data": {
      "text/plain": [
       "{'halder': 234565432, 'patric': 345676547, 'sourov': 123456543}"
      ]
     },
     "execution_count": 68,
     "metadata": {
      "tags": []
     },
     "output_type": "execute_result"
    }
   ],
   "source": [
    "dic"
   ]
  },
  {
   "cell_type": "code",
   "execution_count": 69,
   "metadata": {
    "colab": {
     "base_uri": "https://localhost:8080/"
    },
    "id": "Rq8EF5uSzQ0N",
    "outputId": "8b30be38-9991-4e9d-f0fa-bc08eca982ed"
   },
   "outputs": [
    {
     "name": "stdout",
     "output_type": "stream",
     "text": [
      "key : sourov ; value : 123456543\n",
      "key : halder ; value : 234565432\n",
      "key : patric ; value : 345676547\n"
     ]
    }
   ],
   "source": [
    "for key in dic:\n",
    "    print(f\"key : {key} ; value : {dic[key]}\")"
   ]
  },
  {
   "cell_type": "code",
   "execution_count": 70,
   "metadata": {
    "colab": {
     "base_uri": "https://localhost:8080/"
    },
    "id": "mbz59fCaze_y",
    "outputId": "5d74a267-a098-4dd3-fa48-357dcfb2b613"
   },
   "outputs": [
    {
     "name": "stdout",
     "output_type": "stream",
     "text": [
      "key : sourov ; value : 123456543\n",
      "key : halder ; value : 234565432\n",
      "key : patric ; value : 345676547\n"
     ]
    }
   ],
   "source": [
    "for key, val in dic.items():\n",
    "    print(f\"key : {key} ; value : {val}\")"
   ]
  },
  {
   "cell_type": "code",
   "execution_count": 71,
   "metadata": {
    "colab": {
     "base_uri": "https://localhost:8080/"
    },
    "id": "5vudUpX9z8KU",
    "outputId": "3449a7a4-6afe-47ba-cd00-d3adcb3dd50d"
   },
   "outputs": [
    {
     "data": {
      "text/plain": [
       "False"
      ]
     },
     "execution_count": 71,
     "metadata": {
      "tags": []
     },
     "output_type": "execute_result"
    }
   ],
   "source": [
    "\"tom\" in dic"
   ]
  },
  {
   "cell_type": "code",
   "execution_count": 72,
   "metadata": {
    "colab": {
     "base_uri": "https://localhost:8080/"
    },
    "id": "parbh5oY0APg",
    "outputId": "42253c3b-d6f2-44f9-d6c9-e91a445e9b07"
   },
   "outputs": [
    {
     "data": {
      "text/plain": [
       "True"
      ]
     },
     "execution_count": 72,
     "metadata": {
      "tags": []
     },
     "output_type": "execute_result"
    }
   ],
   "source": [
    "\"patric\" in dic"
   ]
  },
  {
   "cell_type": "code",
   "execution_count": 73,
   "metadata": {
    "id": "XNPcjiHn0JT9"
   },
   "outputs": [],
   "source": [
    "dic.clear()"
   ]
  },
  {
   "cell_type": "code",
   "execution_count": 74,
   "metadata": {
    "colab": {
     "base_uri": "https://localhost:8080/"
    },
    "id": "9P4G3-fi0PNX",
    "outputId": "ba65409a-1d25-4cb0-9348-04801f575afa"
   },
   "outputs": [
    {
     "data": {
      "text/plain": [
       "{}"
      ]
     },
     "execution_count": 74,
     "metadata": {
      "tags": []
     },
     "output_type": "execute_result"
    }
   ],
   "source": [
    "dic"
   ]
  },
  {
   "cell_type": "markdown",
   "metadata": {
    "id": "stafsMdd0bv3"
   },
   "source": [
    "# Tuples"
   ]
  },
  {
   "cell_type": "code",
   "execution_count": 75,
   "metadata": {
    "id": "kRz-8Xo30dj7"
   },
   "outputs": [],
   "source": [
    "point = (5, 7)"
   ]
  },
  {
   "cell_type": "code",
   "execution_count": 76,
   "metadata": {
    "colab": {
     "base_uri": "https://localhost:8080/"
    },
    "id": "sdb3spRG0h5J",
    "outputId": "b680589e-2602-4a27-c28c-9ab337502529"
   },
   "outputs": [
    {
     "data": {
      "text/plain": [
       "7"
      ]
     },
     "execution_count": 76,
     "metadata": {
      "tags": []
     },
     "output_type": "execute_result"
    }
   ],
   "source": [
    "point[1]"
   ]
  },
  {
   "cell_type": "code",
   "execution_count": 77,
   "metadata": {
    "colab": {
     "base_uri": "https://localhost:8080/"
    },
    "id": "FPxmrVsU0jKH",
    "outputId": "3422f1ee-1283-40ce-ef6b-bbe915dd644e"
   },
   "outputs": [
    {
     "data": {
      "text/plain": [
       "5"
      ]
     },
     "execution_count": 77,
     "metadata": {
      "tags": []
     },
     "output_type": "execute_result"
    }
   ],
   "source": [
    "point[0]"
   ]
  },
  {
   "cell_type": "code",
   "execution_count": 78,
   "metadata": {
    "id": "v1f109bN0k_P"
   },
   "outputs": [],
   "source": [
    "point = (9, 2, 5)"
   ]
  },
  {
   "cell_type": "code",
   "execution_count": 79,
   "metadata": {
    "colab": {
     "base_uri": "https://localhost:8080/"
    },
    "id": "x6QZ6pm60tEW",
    "outputId": "bdf8e250-33af-4f56-ab3a-d00e4ca241f7"
   },
   "outputs": [
    {
     "data": {
      "text/plain": [
       "5"
      ]
     },
     "execution_count": 79,
     "metadata": {
      "tags": []
     },
     "output_type": "execute_result"
    }
   ],
   "source": [
    "point[2]"
   ]
  },
  {
   "cell_type": "code",
   "execution_count": 80,
   "metadata": {
    "id": "R5DO66BG0u6G"
   },
   "outputs": [],
   "source": [
    "point = (\"yellow colony\", \"coco street\", 74562)"
   ]
  },
  {
   "cell_type": "code",
   "execution_count": 81,
   "metadata": {
    "colab": {
     "base_uri": "https://localhost:8080/"
    },
    "id": "X9QaeO_J02Gj",
    "outputId": "41a74108-4187-40e7-cccc-d0818ec70a91"
   },
   "outputs": [
    {
     "data": {
      "text/plain": [
       "str"
      ]
     },
     "execution_count": 81,
     "metadata": {
      "tags": []
     },
     "output_type": "execute_result"
    }
   ],
   "source": [
    "type(point[1])"
   ]
  },
  {
   "cell_type": "code",
   "execution_count": 82,
   "metadata": {
    "colab": {
     "base_uri": "https://localhost:8080/"
    },
    "id": "QpeBom--1KAE",
    "outputId": "7320cd8f-9746-418b-ca20-ce06860857a0"
   },
   "outputs": [
    {
     "data": {
      "text/plain": [
       "tuple"
      ]
     },
     "execution_count": 82,
     "metadata": {
      "tags": []
     },
     "output_type": "execute_result"
    }
   ],
   "source": [
    "type(point)"
   ]
  },
  {
   "cell_type": "code",
   "execution_count": 83,
   "metadata": {
    "colab": {
     "base_uri": "https://localhost:8080/",
     "height": 35
    },
    "id": "wypUyFSgUgbU",
    "outputId": "067850cc-8c60-448a-ebc0-7f256fd8cf58"
   },
   "outputs": [
    {
     "data": {
      "application/vnd.google.colaboratory.intrinsic+json": {
       "type": "string"
      },
      "text/plain": [
       "'coco street'"
      ]
     },
     "execution_count": 83,
     "metadata": {
      "tags": []
     },
     "output_type": "execute_result"
    }
   ],
   "source": [
    "point[1]"
   ]
  },
  {
   "cell_type": "markdown",
   "metadata": {
    "id": "Woy03FZO1l6O"
   },
   "source": [
    "# Modules"
   ]
  },
  {
   "cell_type": "code",
   "execution_count": 84,
   "metadata": {
    "id": "oVTo4MUZ1n_L"
   },
   "outputs": [],
   "source": [
    "import math"
   ]
  },
  {
   "cell_type": "code",
   "execution_count": 85,
   "metadata": {
    "colab": {
     "base_uri": "https://localhost:8080/"
    },
    "id": "loApahsh2ESw",
    "outputId": "e5a15303-9208-4bb0-f1f1-3978e510c740"
   },
   "outputs": [
    {
     "data": {
      "text/plain": [
       "4.0"
      ]
     },
     "execution_count": 85,
     "metadata": {
      "tags": []
     },
     "output_type": "execute_result"
    }
   ],
   "source": [
    "math.sqrt(16)"
   ]
  },
  {
   "cell_type": "code",
   "execution_count": 86,
   "metadata": {
    "colab": {
     "base_uri": "https://localhost:8080/"
    },
    "id": "dqjgJ54l2IRL",
    "outputId": "27ee03fc-3ab9-4c32-dc2d-de7a0a780eeb"
   },
   "outputs": [
    {
     "data": {
      "text/plain": [
       "8.0"
      ]
     },
     "execution_count": 86,
     "metadata": {
      "tags": []
     },
     "output_type": "execute_result"
    }
   ],
   "source": [
    "math.pow(2, 3)"
   ]
  },
  {
   "cell_type": "code",
   "execution_count": 87,
   "metadata": {
    "colab": {
     "base_uri": "https://localhost:8080/"
    },
    "id": "eFabZ6pF4eUq",
    "outputId": "72ccb51c-0826-4184-f6d4-cd1d12023886"
   },
   "outputs": [
    {
     "data": {
      "text/plain": [
       "['__doc__',\n",
       " '__loader__',\n",
       " '__name__',\n",
       " '__package__',\n",
       " '__spec__',\n",
       " 'acos',\n",
       " 'acosh',\n",
       " 'asin',\n",
       " 'asinh',\n",
       " 'atan',\n",
       " 'atan2',\n",
       " 'atanh',\n",
       " 'ceil',\n",
       " 'copysign',\n",
       " 'cos',\n",
       " 'cosh',\n",
       " 'degrees',\n",
       " 'e',\n",
       " 'erf',\n",
       " 'erfc',\n",
       " 'exp',\n",
       " 'expm1',\n",
       " 'fabs',\n",
       " 'factorial',\n",
       " 'floor',\n",
       " 'fmod',\n",
       " 'frexp',\n",
       " 'fsum',\n",
       " 'gamma',\n",
       " 'gcd',\n",
       " 'hypot',\n",
       " 'inf',\n",
       " 'isclose',\n",
       " 'isfinite',\n",
       " 'isinf',\n",
       " 'isnan',\n",
       " 'ldexp',\n",
       " 'lgamma',\n",
       " 'log',\n",
       " 'log10',\n",
       " 'log1p',\n",
       " 'log2',\n",
       " 'modf',\n",
       " 'nan',\n",
       " 'pi',\n",
       " 'pow',\n",
       " 'radians',\n",
       " 'remainder',\n",
       " 'sin',\n",
       " 'sinh',\n",
       " 'sqrt',\n",
       " 'tan',\n",
       " 'tanh',\n",
       " 'tau',\n",
       " 'trunc']"
      ]
     },
     "execution_count": 87,
     "metadata": {
      "tags": []
     },
     "output_type": "execute_result"
    }
   ],
   "source": [
    "dir(math)"
   ]
  },
  {
   "cell_type": "markdown",
   "metadata": {
    "id": "MUUaHJbw4MeO"
   },
   "source": [
    "<hr>\n",
    "\n",
    "```\n",
    "Built-in math library :\n",
    "\n",
    "https://docs.python.org/3.7/library/math.html\n",
    "\n",
    "```\n",
    "<hr>"
   ]
  },
  {
   "cell_type": "code",
   "execution_count": 88,
   "metadata": {
    "colab": {
     "base_uri": "https://localhost:8080/"
    },
    "id": "8-natoxf46C5",
    "outputId": "04e148c1-4642-4816-81bf-dfeca9cd0692"
   },
   "outputs": [
    {
     "data": {
      "text/plain": [
       "2.0"
      ]
     },
     "execution_count": 88,
     "metadata": {
      "tags": []
     },
     "output_type": "execute_result"
    }
   ],
   "source": [
    "math.log10(100)"
   ]
  },
  {
   "cell_type": "code",
   "execution_count": 89,
   "metadata": {
    "colab": {
     "base_uri": "https://localhost:8080/"
    },
    "id": "qEP-bq-T5GhO",
    "outputId": "0b7ccc42-cbaf-411f-b00b-659798272b73"
   },
   "outputs": [
    {
     "data": {
      "text/plain": [
       "3"
      ]
     },
     "execution_count": 89,
     "metadata": {
      "tags": []
     },
     "output_type": "execute_result"
    }
   ],
   "source": [
    "math.ceil(2.3)"
   ]
  },
  {
   "cell_type": "code",
   "execution_count": 90,
   "metadata": {
    "colab": {
     "base_uri": "https://localhost:8080/"
    },
    "id": "2-ubDbok5JAO",
    "outputId": "4e4d266a-6c44-48cb-eff8-49ab162cbb5e"
   },
   "outputs": [
    {
     "data": {
      "text/plain": [
       "4"
      ]
     },
     "execution_count": 90,
     "metadata": {
      "tags": []
     },
     "output_type": "execute_result"
    }
   ],
   "source": [
    "math.floor(4.3)"
   ]
  },
  {
   "cell_type": "code",
   "execution_count": 91,
   "metadata": {
    "id": "s7e1E7Ew5LX4"
   },
   "outputs": [],
   "source": [
    "import calendar as cal"
   ]
  },
  {
   "cell_type": "code",
   "execution_count": 92,
   "metadata": {
    "id": "43vEH2d15W23"
   },
   "outputs": [],
   "source": [
    "res = cal.month(2021, 6)"
   ]
  },
  {
   "cell_type": "code",
   "execution_count": 93,
   "metadata": {
    "colab": {
     "base_uri": "https://localhost:8080/"
    },
    "id": "NpIN0JxU5bZp",
    "outputId": "16fc5b68-9c97-4bdc-c4e2-5d426af34da8"
   },
   "outputs": [
    {
     "name": "stdout",
     "output_type": "stream",
     "text": [
      "     June 2021\n",
      "Mo Tu We Th Fr Sa Su\n",
      "    1  2  3  4  5  6\n",
      " 7  8  9 10 11 12 13\n",
      "14 15 16 17 18 19 20\n",
      "21 22 23 24 25 26 27\n",
      "28 29 30\n",
      "\n"
     ]
    }
   ],
   "source": [
    "print(res)"
   ]
  },
  {
   "cell_type": "code",
   "execution_count": 94,
   "metadata": {
    "colab": {
     "base_uri": "https://localhost:8080/"
    },
    "id": "AJ1vEzY85iUz",
    "outputId": "ce836ca5-a3ec-4a67-c6e1-b9b5615d8eba"
   },
   "outputs": [
    {
     "data": {
      "text/plain": [
       "['Calendar',\n",
       " 'EPOCH',\n",
       " 'FRIDAY',\n",
       " 'February',\n",
       " 'HTMLCalendar',\n",
       " 'IllegalMonthError',\n",
       " 'IllegalWeekdayError',\n",
       " 'January',\n",
       " 'LocaleHTMLCalendar',\n",
       " 'LocaleTextCalendar',\n",
       " 'MONDAY',\n",
       " 'SATURDAY',\n",
       " 'SUNDAY',\n",
       " 'THURSDAY',\n",
       " 'TUESDAY',\n",
       " 'TextCalendar',\n",
       " 'WEDNESDAY',\n",
       " '_EPOCH_ORD',\n",
       " '__all__',\n",
       " '__builtins__',\n",
       " '__cached__',\n",
       " '__doc__',\n",
       " '__file__',\n",
       " '__loader__',\n",
       " '__name__',\n",
       " '__package__',\n",
       " '__spec__',\n",
       " '_colwidth',\n",
       " '_locale',\n",
       " '_localized_day',\n",
       " '_localized_month',\n",
       " '_spacing',\n",
       " 'c',\n",
       " 'calendar',\n",
       " 'datetime',\n",
       " 'day_abbr',\n",
       " 'day_name',\n",
       " 'different_locale',\n",
       " 'error',\n",
       " 'firstweekday',\n",
       " 'format',\n",
       " 'formatstring',\n",
       " 'isleap',\n",
       " 'leapdays',\n",
       " 'main',\n",
       " 'mdays',\n",
       " 'month',\n",
       " 'month_abbr',\n",
       " 'month_name',\n",
       " 'monthcalendar',\n",
       " 'monthlen',\n",
       " 'monthrange',\n",
       " 'nextmonth',\n",
       " 'prcal',\n",
       " 'prevmonth',\n",
       " 'prmonth',\n",
       " 'prweek',\n",
       " 'repeat',\n",
       " 'setfirstweekday',\n",
       " 'sys',\n",
       " 'timegm',\n",
       " 'week',\n",
       " 'weekday',\n",
       " 'weekheader']"
      ]
     },
     "execution_count": 94,
     "metadata": {
      "tags": []
     },
     "output_type": "execute_result"
    }
   ],
   "source": [
    "dir(cal)"
   ]
  },
  {
   "cell_type": "markdown",
   "metadata": {
    "id": "6cpgfvqS8G6k"
   },
   "source": [
    "# JSON"
   ]
  },
  {
   "cell_type": "code",
   "execution_count": 95,
   "metadata": {
    "id": "z_TmHBOr8Ilv"
   },
   "outputs": [],
   "source": [
    "book = {}"
   ]
  },
  {
   "cell_type": "code",
   "execution_count": 96,
   "metadata": {
    "id": "Pg8LweBZ8XSe"
   },
   "outputs": [],
   "source": [
    "book['tom'] = {\n",
    "    'name' : 'tom',\n",
    "    'address' : 'green colony 13',\n",
    "    'phone' : 543212345\n",
    "}\n",
    "\n",
    "book['sam'] = {\n",
    "    'name' : 'sam',\n",
    "    'address' : 'yellow colony 23',\n",
    "    'phone' : 765456544\n",
    "}"
   ]
  },
  {
   "cell_type": "code",
   "execution_count": 97,
   "metadata": {
    "colab": {
     "base_uri": "https://localhost:8080/"
    },
    "id": "iqRZSfdF858_",
    "outputId": "29d27fc2-5fc5-4a98-be4b-f82e5651989a"
   },
   "outputs": [
    {
     "data": {
      "text/plain": [
       "{'sam': {'address': 'yellow colony 23', 'name': 'sam', 'phone': 765456544},\n",
       " 'tom': {'address': 'green colony 13', 'name': 'tom', 'phone': 543212345}}"
      ]
     },
     "execution_count": 97,
     "metadata": {
      "tags": []
     },
     "output_type": "execute_result"
    }
   ],
   "source": [
    "book"
   ]
  },
  {
   "cell_type": "code",
   "execution_count": 98,
   "metadata": {
    "colab": {
     "base_uri": "https://localhost:8080/",
     "height": 35
    },
    "id": "lh4vs9WfUgbY",
    "outputId": "30d5c900-0adc-4aa5-8237-d378d19e8993"
   },
   "outputs": [
    {
     "data": {
      "application/vnd.google.colaboratory.intrinsic+json": {
       "type": "string"
      },
      "text/plain": [
       "'yellow colony 23'"
      ]
     },
     "execution_count": 98,
     "metadata": {
      "tags": []
     },
     "output_type": "execute_result"
    }
   ],
   "source": [
    "book[\"sam\"][\"address\"]"
   ]
  },
  {
   "cell_type": "code",
   "execution_count": 99,
   "metadata": {
    "colab": {
     "base_uri": "https://localhost:8080/"
    },
    "id": "36AhON1yUgbZ",
    "outputId": "2f88c19d-b90d-4b3f-acba-de2623f6981b"
   },
   "outputs": [
    {
     "data": {
      "text/plain": [
       "dict"
      ]
     },
     "execution_count": 99,
     "metadata": {
      "tags": []
     },
     "output_type": "execute_result"
    }
   ],
   "source": [
    "type(book)"
   ]
  },
  {
   "cell_type": "code",
   "execution_count": 100,
   "metadata": {
    "id": "7lcsmOgU9hGC"
   },
   "outputs": [],
   "source": [
    "import json"
   ]
  },
  {
   "cell_type": "code",
   "execution_count": 101,
   "metadata": {
    "id": "hB3XvTtS9lye"
   },
   "outputs": [],
   "source": [
    "js = json.dumps(book)"
   ]
  },
  {
   "cell_type": "code",
   "execution_count": 102,
   "metadata": {
    "colab": {
     "base_uri": "https://localhost:8080/"
    },
    "id": "KoHCtZPR9sNW",
    "outputId": "c94e46d6-c7a2-4ff2-dddb-4cb77abf2d33"
   },
   "outputs": [
    {
     "name": "stdout",
     "output_type": "stream",
     "text": [
      "{\"tom\": {\"name\": \"tom\", \"address\": \"green colony 13\", \"phone\": 543212345}, \"sam\": {\"name\": \"sam\", \"address\": \"yellow colony 23\", \"phone\": 765456544}}\n"
     ]
    }
   ],
   "source": [
    "print(js)"
   ]
  },
  {
   "cell_type": "code",
   "execution_count": 103,
   "metadata": {
    "colab": {
     "base_uri": "https://localhost:8080/",
     "height": 35
    },
    "id": "4wFPyKVYUgba",
    "outputId": "b36da75b-8330-4216-bd24-0bdd4408cff3"
   },
   "outputs": [
    {
     "data": {
      "application/vnd.google.colaboratory.intrinsic+json": {
       "type": "string"
      },
      "text/plain": [
       "'{\"tom\": {\"name\": \"tom\", \"address\": \"green colony 13\", \"phone\": 543212345}, \"sam\": {\"name\": \"sam\", \"address\": \"yellow colony 23\", \"phone\": 765456544}}'"
      ]
     },
     "execution_count": 103,
     "metadata": {
      "tags": []
     },
     "output_type": "execute_result"
    }
   ],
   "source": [
    "js"
   ]
  },
  {
   "cell_type": "code",
   "execution_count": 104,
   "metadata": {
    "colab": {
     "base_uri": "https://localhost:8080/"
    },
    "id": "rkJZh2uNUgba",
    "outputId": "668e2921-9302-416c-8dbf-e73f08289e53"
   },
   "outputs": [
    {
     "data": {
      "text/plain": [
       "str"
      ]
     },
     "execution_count": 104,
     "metadata": {
      "tags": []
     },
     "output_type": "execute_result"
    }
   ],
   "source": [
    "type(js)"
   ]
  },
  {
   "cell_type": "code",
   "execution_count": 105,
   "metadata": {
    "id": "X80sY584Ugba"
   },
   "outputs": [],
   "source": [
    "import json"
   ]
  },
  {
   "cell_type": "code",
   "execution_count": 106,
   "metadata": {
    "id": "hSQK2ireUgbb"
   },
   "outputs": [],
   "source": [
    "js = json.dumps(book)"
   ]
  },
  {
   "cell_type": "code",
   "execution_count": 107,
   "metadata": {
    "id": "PGRKt3cqUgbb"
   },
   "outputs": [],
   "source": [
    "with open(\"book.txt\", \"w\") as f:\n",
    "    f.write(js)"
   ]
  },
  {
   "cell_type": "code",
   "execution_count": 108,
   "metadata": {
    "id": "XhufF6UIUgbb"
   },
   "outputs": [],
   "source": [
    "f = open(\"book.txt\", \"r\")\n",
    "s = f.read()"
   ]
  },
  {
   "cell_type": "code",
   "execution_count": 109,
   "metadata": {
    "colab": {
     "base_uri": "https://localhost:8080/"
    },
    "id": "NTIGHoi0Ugbb",
    "outputId": "56defcac-586c-428c-dcb9-5890e69cc31c"
   },
   "outputs": [
    {
     "data": {
      "text/plain": [
       "str"
      ]
     },
     "execution_count": 109,
     "metadata": {
      "tags": []
     },
     "output_type": "execute_result"
    }
   ],
   "source": [
    "type(s)"
   ]
  },
  {
   "cell_type": "code",
   "execution_count": 110,
   "metadata": {
    "colab": {
     "base_uri": "https://localhost:8080/",
     "height": 35
    },
    "id": "glCw6LNhUgbc",
    "outputId": "34738ad2-246e-4174-d320-de9dfd01109a"
   },
   "outputs": [
    {
     "data": {
      "application/vnd.google.colaboratory.intrinsic+json": {
       "type": "string"
      },
      "text/plain": [
       "'{\"tom\": {\"name\": \"tom\", \"address\": \"green colony 13\", \"phone\": 543212345}, \"sam\": {\"name\": \"sam\", \"address\": \"yellow colony 23\", \"phone\": 765456544}}'"
      ]
     },
     "execution_count": 110,
     "metadata": {
      "tags": []
     },
     "output_type": "execute_result"
    }
   ],
   "source": [
    "s"
   ]
  },
  {
   "cell_type": "code",
   "execution_count": 111,
   "metadata": {
    "id": "PjkM6-PhUgbc"
   },
   "outputs": [],
   "source": [
    "book2 = json.loads(s)"
   ]
  },
  {
   "cell_type": "code",
   "execution_count": 112,
   "metadata": {
    "colab": {
     "base_uri": "https://localhost:8080/"
    },
    "id": "soVjJ_pRUgbc",
    "outputId": "10660d66-8e08-4e87-c774-810bd546da28"
   },
   "outputs": [
    {
     "data": {
      "text/plain": [
       "{'sam': {'address': 'yellow colony 23', 'name': 'sam', 'phone': 765456544},\n",
       " 'tom': {'address': 'green colony 13', 'name': 'tom', 'phone': 543212345}}"
      ]
     },
     "execution_count": 112,
     "metadata": {
      "tags": []
     },
     "output_type": "execute_result"
    }
   ],
   "source": [
    "book2"
   ]
  },
  {
   "cell_type": "code",
   "execution_count": 113,
   "metadata": {
    "colab": {
     "base_uri": "https://localhost:8080/"
    },
    "id": "JBnjJVJdUgbc",
    "outputId": "40470d2a-f086-4728-f3d4-02e5626e3b33"
   },
   "outputs": [
    {
     "data": {
      "text/plain": [
       "dict"
      ]
     },
     "execution_count": 113,
     "metadata": {
      "tags": []
     },
     "output_type": "execute_result"
    }
   ],
   "source": [
    "type(book2)"
   ]
  },
  {
   "cell_type": "code",
   "execution_count": 114,
   "metadata": {
    "colab": {
     "base_uri": "https://localhost:8080/"
    },
    "id": "TZXicK4nUgbd",
    "outputId": "188c0ee7-c0e8-4089-c111-935eab7b22ad"
   },
   "outputs": [
    {
     "data": {
      "text/plain": [
       "dict"
      ]
     },
     "execution_count": 114,
     "metadata": {
      "tags": []
     },
     "output_type": "execute_result"
    }
   ],
   "source": [
    "type(book)"
   ]
  },
  {
   "cell_type": "code",
   "execution_count": 115,
   "metadata": {
    "colab": {
     "base_uri": "https://localhost:8080/"
    },
    "id": "sNVOLJqqUgbd",
    "outputId": "c47379c1-03d3-44e2-a6c6-522510c74600"
   },
   "outputs": [
    {
     "data": {
      "text/plain": [
       "{'sam': {'address': 'yellow colony 23', 'name': 'sam', 'phone': 765456544},\n",
       " 'tom': {'address': 'green colony 13', 'name': 'tom', 'phone': 543212345}}"
      ]
     },
     "execution_count": 115,
     "metadata": {
      "tags": []
     },
     "output_type": "execute_result"
    }
   ],
   "source": [
    "book2"
   ]
  },
  {
   "cell_type": "markdown",
   "metadata": {
    "id": "P4z_AH0h_V8n"
   },
   "source": [
    "# Python Extra"
   ]
  },
  {
   "cell_type": "code",
   "execution_count": 116,
   "metadata": {
    "colab": {
     "base_uri": "https://localhost:8080/",
     "height": 35
    },
    "id": "Q_2pXc0K_jdx",
    "outputId": "259730a4-c53c-42fa-8384-dca0ed19b469"
   },
   "outputs": [
    {
     "data": {
      "application/vnd.google.colaboratory.intrinsic+json": {
       "type": "string"
      },
      "text/plain": [
       "'__main__'"
      ]
     },
     "execution_count": 116,
     "metadata": {
      "tags": []
     },
     "output_type": "execute_result"
    }
   ],
   "source": [
    "__name__"
   ]
  },
  {
   "cell_type": "code",
   "execution_count": 117,
   "metadata": {
    "id": "1rn80WJh_n5W"
   },
   "outputs": [],
   "source": [
    "def calculate_area(base, height):\n",
    "    return 1 / 2 * (base * height)"
   ]
  },
  {
   "cell_type": "code",
   "execution_count": 118,
   "metadata": {
    "colab": {
     "base_uri": "https://localhost:8080/"
    },
    "id": "x6B7Tyj6ACmv",
    "outputId": "eac19bda-9468-4fc9-ff69-d7536ba439e6"
   },
   "outputs": [
    {
     "name": "stdout",
     "output_type": "stream",
     "text": [
      "area : 100.0\n"
     ]
    }
   ],
   "source": [
    "if __name__ == \"__main__\":\n",
    "    ans = calculate_area(10, 20)\n",
    "    print(f\"area : {ans}\")"
   ]
  },
  {
   "cell_type": "markdown",
   "metadata": {
    "id": "oytJMqG2BDSc"
   },
   "source": [
    "# Exception Handling"
   ]
  },
  {
   "cell_type": "code",
   "execution_count": 121,
   "metadata": {
    "colab": {
     "base_uri": "https://localhost:8080/"
    },
    "id": "KtdHpOJ-BFq8",
    "outputId": "6e7c6486-3758-4cba-a5c3-0e7a8dd19f26"
   },
   "outputs": [
    {
     "name": "stdout",
     "output_type": "stream",
     "text": [
      "10\n",
      "0\n",
      "Exception occured : division by zero\n",
      "Result : None\n"
     ]
    }
   ],
   "source": [
    "n1 = int(input())\n",
    "n2 = int(input())\n",
    "\n",
    "try:\n",
    "    res = n1 / n2\n",
    "except Exception as e:\n",
    "    print(f\"Exception occured : {e}\")\n",
    "    res = None\n",
    "\n",
    "print(f\"Result : {res}\")"
   ]
  },
  {
   "cell_type": "code",
   "execution_count": 122,
   "metadata": {
    "colab": {
     "base_uri": "https://localhost:8080/"
    },
    "id": "XIN9V1EDCq2O",
    "outputId": "2c60dd65-02ce-4b0e-ac7c-a5585ff89f6a"
   },
   "outputs": [
    {
     "name": "stdout",
     "output_type": "stream",
     "text": [
      "15\n",
      "0\n",
      "Exception occured : unsupported operand type(s) for /: 'str' and 'int'\n",
      "Result : None\n"
     ]
    }
   ],
   "source": [
    "n1 = input()\n",
    "n2 = input()\n",
    "\n",
    "try:\n",
    "    res = n1 / int(n2)\n",
    "except Exception as e:\n",
    "    print(f\"Exception occured : {e}\")\n",
    "    res = None\n",
    "\n",
    "print(f\"Result : {res}\")"
   ]
  }
 ],
 "metadata": {
  "colab": {
   "collapsed_sections": [],
   "include_colab_link": true,
   "name": "1-python-fundamentals.ipynb",
   "provenance": []
  },
  "kernelspec": {
   "display_name": "Python 3",
   "language": "python",
   "name": "python3"
  },
  "language_info": {
   "codemirror_mode": {
    "name": "ipython",
    "version": 3
   },
   "file_extension": ".py",
   "mimetype": "text/x-python",
   "name": "python",
   "nbconvert_exporter": "python",
   "pygments_lexer": "ipython3",
   "version": "3.8.3"
  }
 },
 "nbformat": 4,
 "nbformat_minor": 1
}
